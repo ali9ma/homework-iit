{
  "cells": [
    {
      "cell_type": "markdown",
      "metadata": {
        "id": "5WZEen6RK_WA"
      },
      "source": [
        "# Титульный лист\n",
        "<a name = 'Титульный_лист'>"
      ]
    },
    {
      "cell_type": "markdown",
      "metadata": {
        "id": "ry1YlvUSJDf8"
      },
      "source": [
        "<font face=\"times new roman\" size=\"3\" color=\"black\">\n",
        "<center> МИНИСТЕРСТВО ЦИФРОВОГО РАЗВИТИЯ, СВЯЗИ И МАССОВЫХ КОММУНИКАЦИЙ РОССИЙСКОЙ ФЕДЕРАЦИИ </center>\n",
        "<center>Ордена Трудового Красного Знамени федеральное государственное бюджетное образовательное учреждение высшего образования </center>\n",
        "<center> <strong> «Московский технический университет связи и информатики» </strong> </center>\n",
        "\n",
        "  <hr>\n",
        "<center> Кафедра «Телевидения и звукового вещания им. С.И. Катаева (ТиЗВ)» </center>\n",
        "<br>\n",
        "<center> <font face=\"times new roman\" size=\"3\" color=\"black\"> Отчет по практической работе №12 </center>\n",
        "<center>по дисциплине </center>\n",
        "<center><b>«Информационные технологии и программирование»</b></center>\n",
        "<center>на тему</center>\n",
        "<center><b>«Системы контроля версий»</b> </center>\n",
        "\n",
        "</font>\n",
        "\n",
        "  <br><br><br><br><br>\n",
        "  <p  align=\"right\"> <font face=\"times new roman\" size=\"3\" color=\"black\"> Выполнила: студентка группы </p>\n",
        "  <p  align=\"right\"> <font face=\"times new roman\" size=\"3\" color=\"black\">       БИК2302 </p>\n",
        "  <p  align=\"right\"> <font face=\"times new roman\" size=\"3\" color=\"black\"> Маркова Алина Олеговна</p>\n",
        "  <p  align=\"right\"> <font face=\"times new roman\" size=\"3\" color=\"black\"> Проверил:</p>\n",
        "  <p  align=\"right\"> <font face=\"times new roman\" size=\"3\" color=\"black\"> Ассистент кафедры ТиЗВ Федоров Владимир Дмитриевич </p>\n",
        "  <br>\n",
        "  <br>\n",
        "\n",
        "  <p  align=\"center\"> <font face=\"times new roman\" size=\"2\" color=\"black\"> Москва, 2023 г. </p>\n",
        "\n",
        "  <hr>"
      ]
    },
    {
      "cell_type": "markdown",
      "metadata": {
        "id": "k4Qnzif1NWP6"
      },
      "source": [
        "\n",
        "> ## Содержание\n"
      ]
    },
    {
      "cell_type": "markdown",
      "metadata": {
        "id": "E3yk_WvgNyCk"
      },
      "source": [
        "<ol start =\"1\">\n",
        "<li><a href = '#Постановка_задач'>Постановка задач </a></li>\n",
        "<ol>\n",
        "<li> <a href = '#Задание'>Задание</a></li>\n",
        "<li> <a href = '#Цель_работы'>Цель работы</a></li>\n",
        "<li> <a href = '#Задачи_работы'>Задачи работы</a></li>\n",
        "</ol>\n",
        "<li><p><a href = '#Ход_работы'>Ход работы </a></p></li>\n",
        "<li><p><a href = '#Результат_выполнения_работы'>Результат выполнения работы </a></p></li>\n",
        "</ol>"
      ]
    },
    {
      "cell_type": "markdown",
      "metadata": {
        "id": "5clBoL9zKHvQ"
      },
      "source": [
        "# Постановка задач\n",
        "<a name = 'Постановка_задач'>"
      ]
    },
    {
      "cell_type": "markdown",
      "metadata": {
        "id": "wi2ErtXsKx8A"
      },
      "source": [
        "##Задание\n",
        "<a name = 'Задание'>\n",
        "<font face=\"times new roman\" size=\"3\" color=\"black\">\n",
        "<p>Создать отчет с помощью git и поместить созданные ранее сайты на github.</p>"
      ]
    },
    {
      "cell_type": "markdown",
      "metadata": {
        "id": "Rp2I9t3bK5Pb"
      },
      "source": [
        "##Цель работы\n",
        "<a name = 'Цель_работы'>\n",
        "<font face=\"times new roman\" size=\"3\" color=\"black\">\n",
        "Изучить основы git. \n",
        "\n"
      ]
    },
    {
      "cell_type": "markdown",
      "metadata": {
        "id": "hvFcgeKZLvvA"
      },
      "source": [
        "##Задачи работы\n",
        "<a name = 'Задачи_работы'>\n",
        "<font face=\"times new roman\" size=\"3\" color=\"black\">\n",
        "\n",
        "\n",
        "1. Установить GIT.\n",
        "2. Создать локальный репозиторий.\n",
        "3. Создать файл отчета по выполнению практической работы и поместить его в репозиторий\n",
        "4. Зафиксируйте в отчете все проделанные шаги и создайте версию отчета в GIT\n",
        "5. Создайте ветку отчета в GIT, добавьте описания шагов в отчет и создайте версию отчета в новой ветке.\n",
        "6. Слейте последнее изменение отчета в основную ветку.\n",
        "7. Регистрируемся на github (или используем уже существующий аккаунт), создаем проект «homework IIT», залете содержимое из локального репозитория в проект на githab.\n",
        "8. Разместить на github ранее созданный статический сайт.\n",
        "\n",
        "Доп. задание – Разметить на github ранее созданный динамический сайт.\n",
        "9. Завершить отчет, добавив описание всех пунктов."
      ]
    },
    {
      "cell_type": "markdown",
      "metadata": {
        "id": "z3YpbGx3KMlA"
      },
      "source": [
        "# Ход работы\n",
        "<a name = 'Ход_работы'>"
      ]
    },
    {
      "cell_type": "markdown",
      "metadata": {
        "id": "nMlX7UTSKQlo"
      },
      "source": [
        "# Результат выполнения работы\n",
        "<a name = 'Результат_выполнения_работы'>\n",
        "<font face=\"times new roman\" size=\"3\" color=\"black\">\n",
        "В результате этой работы я ознакомилась с основами работы git."
      ]
    }
  ],
  "metadata": {
    "colab": {
      "provenance": []
    },
    "kernelspec": {
      "display_name": "Python 3",
      "name": "python3"
    },
    "language_info": {
      "name": "python"
    }
  },
  "nbformat": 4,
  "nbformat_minor": 0
}
